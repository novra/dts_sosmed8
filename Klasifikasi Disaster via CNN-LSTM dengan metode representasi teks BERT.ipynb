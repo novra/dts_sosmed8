{
  "cells": [
    {
      "cell_type": "code",
      "source": [
        "pip install tweet-preprocessor"
      ],
      "metadata": {
        "colab": {
          "base_uri": "https://localhost:8080/"
        },
        "id": "4Hwz7T2_RNE0",
        "outputId": "dabab5b5-fc78-4c69-f377-0fd1d0ec5a93"
      },
      "execution_count": 1,
      "outputs": [
        {
          "output_type": "stream",
          "name": "stdout",
          "text": [
            "Looking in indexes: https://pypi.org/simple, https://us-python.pkg.dev/colab-wheels/public/simple/\n",
            "Requirement already satisfied: tweet-preprocessor in /usr/local/lib/python3.7/dist-packages (0.6.0)\n"
          ]
        }
      ]
    },
    {
      "cell_type": "code",
      "execution_count": 2,
      "metadata": {
        "id": "uoqQCHaGPlyn",
        "colab": {
          "base_uri": "https://localhost:8080/"
        },
        "outputId": "eec38f0a-36c6-4166-a7cd-68fa2b73b422"
      },
      "outputs": [
        {
          "output_type": "stream",
          "name": "stderr",
          "text": [
            "[nltk_data] Downloading package wordnet to /root/nltk_data...\n",
            "[nltk_data]   Package wordnet is already up-to-date!\n",
            "[nltk_data] Downloading package omw-1.4 to /root/nltk_data...\n",
            "[nltk_data]   Package omw-1.4 is already up-to-date!\n",
            "[nltk_data] Downloading package stopwords to /root/nltk_data...\n",
            "[nltk_data]   Package stopwords is already up-to-date!\n"
          ]
        },
        {
          "output_type": "execute_result",
          "data": {
            "text/plain": [
              "True"
            ]
          },
          "metadata": {},
          "execution_count": 2
        }
      ],
      "source": [
        "import re\n",
        "import numpy as np\n",
        "import pandas as pd\n",
        "import tensorflow as tf\n",
        "from tensorflow import keras\n",
        "import matplotlib.pyplot as plt\n",
        "from sklearn.metrics import precision_score, recall_score, f1_score, accuracy_score\n",
        "from sklearn.model_selection import train_test_split\n",
        "import IPython\n",
        "import nltk\n",
        "from nltk.tokenize import TweetTokenizer\n",
        "from nltk.stem import LancasterStemmer, WordNetLemmatizer\n",
        "from nltk.corpus import stopwords\n",
        "import preprocessor as p\n",
        "nltk.download('wordnet')\n",
        "nltk.download('omw-1.4')\n",
        "nltk.download('stopwords')"
      ]
    },
    {
      "cell_type": "code",
      "execution_count": 3,
      "metadata": {
        "colab": {
          "base_uri": "https://localhost:8080/",
          "height": 206
        },
        "id": "ZsoiCYoU5hi3",
        "outputId": "1b10cae5-42c1-43f6-af0f-50570ca1db7c"
      },
      "outputs": [
        {
          "output_type": "execute_result",
          "data": {
            "text/plain": [
              "   id keyword        location  \\\n",
              "0   0  ablaze             NaN   \n",
              "1   1  ablaze             NaN   \n",
              "2   2  ablaze   New York City   \n",
              "3   3  ablaze  Morgantown, WV   \n",
              "4   4  ablaze             NaN   \n",
              "\n",
              "                                                text  target  \n",
              "0  Communal violence in Bhainsa, Telangana. \"Ston...       1  \n",
              "1  Telangana: Section 144 has been imposed in Bha...       1  \n",
              "2  Arsonist sets cars ablaze at dealership https:...       1  \n",
              "3  Arsonist sets cars ablaze at dealership https:...       1  \n",
              "4  \"Lord Jesus, your love brings freedom and pard...       0  "
            ],
            "text/html": [
              "\n",
              "  <div id=\"df-3ab8e335-9d11-418e-9a83-8abdeb90a089\">\n",
              "    <div class=\"colab-df-container\">\n",
              "      <div>\n",
              "<style scoped>\n",
              "    .dataframe tbody tr th:only-of-type {\n",
              "        vertical-align: middle;\n",
              "    }\n",
              "\n",
              "    .dataframe tbody tr th {\n",
              "        vertical-align: top;\n",
              "    }\n",
              "\n",
              "    .dataframe thead th {\n",
              "        text-align: right;\n",
              "    }\n",
              "</style>\n",
              "<table border=\"1\" class=\"dataframe\">\n",
              "  <thead>\n",
              "    <tr style=\"text-align: right;\">\n",
              "      <th></th>\n",
              "      <th>id</th>\n",
              "      <th>keyword</th>\n",
              "      <th>location</th>\n",
              "      <th>text</th>\n",
              "      <th>target</th>\n",
              "    </tr>\n",
              "  </thead>\n",
              "  <tbody>\n",
              "    <tr>\n",
              "      <th>0</th>\n",
              "      <td>0</td>\n",
              "      <td>ablaze</td>\n",
              "      <td>NaN</td>\n",
              "      <td>Communal violence in Bhainsa, Telangana. \"Ston...</td>\n",
              "      <td>1</td>\n",
              "    </tr>\n",
              "    <tr>\n",
              "      <th>1</th>\n",
              "      <td>1</td>\n",
              "      <td>ablaze</td>\n",
              "      <td>NaN</td>\n",
              "      <td>Telangana: Section 144 has been imposed in Bha...</td>\n",
              "      <td>1</td>\n",
              "    </tr>\n",
              "    <tr>\n",
              "      <th>2</th>\n",
              "      <td>2</td>\n",
              "      <td>ablaze</td>\n",
              "      <td>New York City</td>\n",
              "      <td>Arsonist sets cars ablaze at dealership https:...</td>\n",
              "      <td>1</td>\n",
              "    </tr>\n",
              "    <tr>\n",
              "      <th>3</th>\n",
              "      <td>3</td>\n",
              "      <td>ablaze</td>\n",
              "      <td>Morgantown, WV</td>\n",
              "      <td>Arsonist sets cars ablaze at dealership https:...</td>\n",
              "      <td>1</td>\n",
              "    </tr>\n",
              "    <tr>\n",
              "      <th>4</th>\n",
              "      <td>4</td>\n",
              "      <td>ablaze</td>\n",
              "      <td>NaN</td>\n",
              "      <td>\"Lord Jesus, your love brings freedom and pard...</td>\n",
              "      <td>0</td>\n",
              "    </tr>\n",
              "  </tbody>\n",
              "</table>\n",
              "</div>\n",
              "      <button class=\"colab-df-convert\" onclick=\"convertToInteractive('df-3ab8e335-9d11-418e-9a83-8abdeb90a089')\"\n",
              "              title=\"Convert this dataframe to an interactive table.\"\n",
              "              style=\"display:none;\">\n",
              "        \n",
              "  <svg xmlns=\"http://www.w3.org/2000/svg\" height=\"24px\"viewBox=\"0 0 24 24\"\n",
              "       width=\"24px\">\n",
              "    <path d=\"M0 0h24v24H0V0z\" fill=\"none\"/>\n",
              "    <path d=\"M18.56 5.44l.94 2.06.94-2.06 2.06-.94-2.06-.94-.94-2.06-.94 2.06-2.06.94zm-11 1L8.5 8.5l.94-2.06 2.06-.94-2.06-.94L8.5 2.5l-.94 2.06-2.06.94zm10 10l.94 2.06.94-2.06 2.06-.94-2.06-.94-.94-2.06-.94 2.06-2.06.94z\"/><path d=\"M17.41 7.96l-1.37-1.37c-.4-.4-.92-.59-1.43-.59-.52 0-1.04.2-1.43.59L10.3 9.45l-7.72 7.72c-.78.78-.78 2.05 0 2.83L4 21.41c.39.39.9.59 1.41.59.51 0 1.02-.2 1.41-.59l7.78-7.78 2.81-2.81c.8-.78.8-2.07 0-2.86zM5.41 20L4 18.59l7.72-7.72 1.47 1.35L5.41 20z\"/>\n",
              "  </svg>\n",
              "      </button>\n",
              "      \n",
              "  <style>\n",
              "    .colab-df-container {\n",
              "      display:flex;\n",
              "      flex-wrap:wrap;\n",
              "      gap: 12px;\n",
              "    }\n",
              "\n",
              "    .colab-df-convert {\n",
              "      background-color: #E8F0FE;\n",
              "      border: none;\n",
              "      border-radius: 50%;\n",
              "      cursor: pointer;\n",
              "      display: none;\n",
              "      fill: #1967D2;\n",
              "      height: 32px;\n",
              "      padding: 0 0 0 0;\n",
              "      width: 32px;\n",
              "    }\n",
              "\n",
              "    .colab-df-convert:hover {\n",
              "      background-color: #E2EBFA;\n",
              "      box-shadow: 0px 1px 2px rgba(60, 64, 67, 0.3), 0px 1px 3px 1px rgba(60, 64, 67, 0.15);\n",
              "      fill: #174EA6;\n",
              "    }\n",
              "\n",
              "    [theme=dark] .colab-df-convert {\n",
              "      background-color: #3B4455;\n",
              "      fill: #D2E3FC;\n",
              "    }\n",
              "\n",
              "    [theme=dark] .colab-df-convert:hover {\n",
              "      background-color: #434B5C;\n",
              "      box-shadow: 0px 1px 3px 1px rgba(0, 0, 0, 0.15);\n",
              "      filter: drop-shadow(0px 1px 2px rgba(0, 0, 0, 0.3));\n",
              "      fill: #FFFFFF;\n",
              "    }\n",
              "  </style>\n",
              "\n",
              "      <script>\n",
              "        const buttonEl =\n",
              "          document.querySelector('#df-3ab8e335-9d11-418e-9a83-8abdeb90a089 button.colab-df-convert');\n",
              "        buttonEl.style.display =\n",
              "          google.colab.kernel.accessAllowed ? 'block' : 'none';\n",
              "\n",
              "        async function convertToInteractive(key) {\n",
              "          const element = document.querySelector('#df-3ab8e335-9d11-418e-9a83-8abdeb90a089');\n",
              "          const dataTable =\n",
              "            await google.colab.kernel.invokeFunction('convertToInteractive',\n",
              "                                                     [key], {});\n",
              "          if (!dataTable) return;\n",
              "\n",
              "          const docLinkHtml = 'Like what you see? Visit the ' +\n",
              "            '<a target=\"_blank\" href=https://colab.research.google.com/notebooks/data_table.ipynb>data table notebook</a>'\n",
              "            + ' to learn more about interactive tables.';\n",
              "          element.innerHTML = '';\n",
              "          dataTable['output_type'] = 'display_data';\n",
              "          await google.colab.output.renderOutput(dataTable, element);\n",
              "          const docLink = document.createElement('div');\n",
              "          docLink.innerHTML = docLinkHtml;\n",
              "          element.appendChild(docLink);\n",
              "        }\n",
              "      </script>\n",
              "    </div>\n",
              "  </div>\n",
              "  "
            ]
          },
          "metadata": {},
          "execution_count": 3
        }
      ],
      "source": [
        "## Read data dari github\n",
        "data = pd.read_csv('https://raw.githubusercontent.com/novra/dts_sosmed8/main/tweets.csv')\n",
        "data.head()"
      ]
    },
    {
      "cell_type": "code",
      "execution_count": 4,
      "metadata": {
        "colab": {
          "base_uri": "https://localhost:8080/",
          "height": 281
        },
        "id": "q7lAcAew53OH",
        "outputId": "dc2efbb3-33fb-4a86-c317-4eb6e42e9347"
      },
      "outputs": [
        {
          "output_type": "display_data",
          "data": {
            "text/plain": [
              "<Figure size 432x288 with 1 Axes>"
            ],
            "image/png": "[encoded data removed]"
          },
          "metadata": {
            "needs_background": "light"
          }
        }
      ],
      "source": [
        "# Menghitung jumlah masing-masing target\n",
        "target = list(set(data['target']))\n",
        "jumlah_target = []\n",
        "for i in target:\n",
        "  jumlah_target.append(list(data['target']).count(i))\n",
        "\n",
        "#visualisasi jumlah keyword\n",
        "warna = np.array(['hotpink', 'cornflowerblue'])\n",
        "plt.bar(target, jumlah_target, color=warna)\n",
        "plt.title(\"Distribusi kelas target\")\n",
        "## Menampilkan label pada grafik\n",
        "for i in range(len(target)):\n",
        "    plt.text(i, jumlah_target[i], jumlah_target[i], ha = 'center')\n",
        "\n",
        "plt.show()"
      ]
    },
    {
      "cell_type": "code",
      "execution_count": 5,
      "metadata": {
        "id": "uSZXABwCL7D3"
      },
      "outputs": [],
      "source": [
        "#preprocessing\n",
        "def preprocess_tweet(row):\n",
        "    text = row['text']\n",
        "    text = p.clean(text)\n",
        "    return text\n",
        "\n",
        "data['text'] = data.apply(preprocess_tweet, axis=1)"
      ]
    },
    {
      "cell_type": "code",
      "execution_count": 6,
      "metadata": {
        "id": "7t2kTnBOL7D4"
      },
      "outputs": [],
      "source": [
        "def preprocess_data(data):\n",
        "  #menghapus angka\n",
        "  data = data.astype(str).str.replace('\\d+', '', regex=True)\n",
        "  #menjadikan lowercase\n",
        "  lower_text = data.str.lower()\n",
        "  #lemmatize\n",
        "  lemmatizer = nltk.stem.WordNetLemmatizer()\n",
        "  #tokenize\n",
        "  w_tokenizer =  TweetTokenizer()\n",
        "\n",
        "  def lemmatize_text(text):\n",
        "      return [(lemmatizer.lemmatize(w)) for w in w_tokenizer.tokenize((text))]\n",
        "  def remove_punctuation(words):\n",
        "      new_words = []\n",
        "      for word in words:\n",
        "          new_word = re.sub(r'[^\\w\\s]', '', (word))\n",
        "          if new_word != '':\n",
        "            new_words.append(new_word)\n",
        "      return new_words\n",
        "\n",
        "  words = lower_text.apply(lemmatize_text)\n",
        "  words = words.apply(remove_punctuation)\n",
        "  return pd.DataFrame(words)\n",
        "\n",
        "data['text'] = preprocess_data(data['text'])"
      ]
    },
    {
      "cell_type": "code",
      "execution_count": 7,
      "metadata": {
        "id": "3VY39PyCL7D5"
      },
      "outputs": [],
      "source": [
        "stop_words = set(stopwords.words('english'))\n",
        "data['text'] = data['text'].apply(lambda x: [item for item in x if item not in stop_words])"
      ]
    },
    {
      "cell_type": "code",
      "execution_count": 8,
      "metadata": {
        "id": "0IxYyslEL7D7",
        "outputId": "1b2b959d-4ac0-4829-f433-e12f9dd111be",
        "colab": {
          "base_uri": "https://localhost:8080/",
          "height": 424
        }
      },
      "outputs": [
        {
          "output_type": "execute_result",
          "data": {
            "text/plain": [
              "          id  keyword                 location  \\\n",
              "0          0   ablaze                      NaN   \n",
              "1          1   ablaze                      NaN   \n",
              "2          2   ablaze            New York City   \n",
              "3          3   ablaze           Morgantown, WV   \n",
              "4          4   ablaze                      NaN   \n",
              "...      ...      ...                      ...   \n",
              "11365  11365  wrecked  Blue State in a red sea   \n",
              "11366  11366  wrecked               arohaonces   \n",
              "11367  11367  wrecked                       🇵🇭   \n",
              "11368  11368  wrecked           auroraborealis   \n",
              "11369  11369  wrecked                      NaN   \n",
              "\n",
              "                                                    text  target  \n",
              "0      communal violence bhainsa telangana stone pelt...       1  \n",
              "1      telangana section ha imposed bhainsa january c...       1  \n",
              "2                     arsonist set car ablaze dealership       1  \n",
              "3                     arsonist set car ablaze dealership       1  \n",
              "4      lord jesus love brings freedom pardon fill hol...       0  \n",
              "...                                                  ...     ...  \n",
              "11365  medium warned u well advance wrecked whole nig...       0  \n",
              "11366  feel directly attacked consider moonbin jinjin...       0  \n",
              "11367  feel directly attacked consider moonbin jinjin...       0  \n",
              "11368  ok remember outcast nd dora au au wrecked nerv...       0  \n",
              "11369                 jake corway wrecked running th irp       1  \n",
              "\n",
              "[11370 rows x 5 columns]"
            ],
            "text/html": [
              "\n",
              "  <div id=\"df-371d88d6-1a4b-406e-aa23-5b6ca95a8da0\">\n",
              "    <div class=\"colab-df-container\">\n",
              "      <div>\n",
              "<style scoped>\n",
              "    .dataframe tbody tr th:only-of-type {\n",
              "        vertical-align: middle;\n",
              "    }\n",
              "\n",
              "    .dataframe tbody tr th {\n",
              "        vertical-align: top;\n",
              "    }\n",
              "\n",
              "    .dataframe thead th {\n",
              "        text-align: right;\n",
              "    }\n",
              "</style>\n",
              "<table border=\"1\" class=\"dataframe\">\n",
              "  <thead>\n",
              "    <tr style=\"text-align: right;\">\n",
              "      <th></th>\n",
              "      <th>id</th>\n",
              "      <th>keyword</th>\n",
              "      <th>location</th>\n",
              "      <th>text</th>\n",
              "      <th>target</th>\n",
              "    </tr>\n",
              "  </thead>\n",
              "  <tbody>\n",
              "    <tr>\n",
              "      <th>0</th>\n",
              "      <td>0</td>\n",
              "      <td>ablaze</td>\n",
              "      <td>NaN</td>\n",
              "      <td>communal violence bhainsa telangana stone pelt...</td>\n",
              "      <td>1</td>\n",
              "    </tr>\n",
              "    <tr>\n",
              "      <th>1</th>\n",
              "      <td>1</td>\n",
              "      <td>ablaze</td>\n",
              "      <td>NaN</td>\n",
              "      <td>telangana section ha imposed bhainsa january c...</td>\n",
              "      <td>1</td>\n",
              "    </tr>\n",
              "    <tr>\n",
              "      <th>2</th>\n",
              "      <td>2</td>\n",
              "      <td>ablaze</td>\n",
              "      <td>New York City</td>\n",
              "      <td>arsonist set car ablaze dealership</td>\n",
              "      <td>1</td>\n",
              "    </tr>\n",
              "    <tr>\n",
              "      <th>3</th>\n",
              "      <td>3</td>\n",
              "      <td>ablaze</td>\n",
              "      <td>Morgantown, WV</td>\n",
              "      <td>arsonist set car ablaze dealership</td>\n",
              "      <td>1</td>\n",
              "    </tr>\n",
              "    <tr>\n",
              "      <th>4</th>\n",
              "      <td>4</td>\n",
              "      <td>ablaze</td>\n",
              "      <td>NaN</td>\n",
              "      <td>lord jesus love brings freedom pardon fill hol...</td>\n",
              "      <td>0</td>\n",
              "    </tr>\n",
              "    <tr>\n",
              "      <th>...</th>\n",
              "      <td>...</td>\n",
              "      <td>...</td>\n",
              "      <td>...</td>\n",
              "      <td>...</td>\n",
              "      <td>...</td>\n",
              "    </tr>\n",
              "    <tr>\n",
              "      <th>11365</th>\n",
              "      <td>11365</td>\n",
              "      <td>wrecked</td>\n",
              "      <td>Blue State in a red sea</td>\n",
              "      <td>medium warned u well advance wrecked whole nig...</td>\n",
              "      <td>0</td>\n",
              "    </tr>\n",
              "    <tr>\n",
              "      <th>11366</th>\n",
              "      <td>11366</td>\n",
              "      <td>wrecked</td>\n",
              "      <td>arohaonces</td>\n",
              "      <td>feel directly attacked consider moonbin jinjin...</td>\n",
              "      <td>0</td>\n",
              "    </tr>\n",
              "    <tr>\n",
              "      <th>11367</th>\n",
              "      <td>11367</td>\n",
              "      <td>wrecked</td>\n",
              "      <td>🇵🇭</td>\n",
              "      <td>feel directly attacked consider moonbin jinjin...</td>\n",
              "      <td>0</td>\n",
              "    </tr>\n",
              "    <tr>\n",
              "      <th>11368</th>\n",
              "      <td>11368</td>\n",
              "      <td>wrecked</td>\n",
              "      <td>auroraborealis</td>\n",
              "      <td>ok remember outcast nd dora au au wrecked nerv...</td>\n",
              "      <td>0</td>\n",
              "    </tr>\n",
              "    <tr>\n",
              "      <th>11369</th>\n",
              "      <td>11369</td>\n",
              "      <td>wrecked</td>\n",
              "      <td>NaN</td>\n",
              "      <td>jake corway wrecked running th irp</td>\n",
              "      <td>1</td>\n",
              "    </tr>\n",
              "  </tbody>\n",
              "</table>\n",
              "<p>11370 rows × 5 columns</p>\n",
              "</div>\n",
              "      <button class=\"colab-df-convert\" onclick=\"convertToInteractive('df-371d88d6-1a4b-406e-aa23-5b6ca95a8da0')\"\n",
              "              title=\"Convert this dataframe to an interactive table.\"\n",
              "              style=\"display:none;\">\n",
              "        \n",
              "  <svg xmlns=\"http://www.w3.org/2000/svg\" height=\"24px\"viewBox=\"0 0 24 24\"\n",
              "       width=\"24px\">\n",
              "    <path d=\"M0 0h24v24H0V0z\" fill=\"none\"/>\n",
              "    <path d=\"M18.56 5.44l.94 2.06.94-2.06 2.06-.94-2.06-.94-.94-2.06-.94 2.06-2.06.94zm-11 1L8.5 8.5l.94-2.06 2.06-.94-2.06-.94L8.5 2.5l-.94 2.06-2.06.94zm10 10l.94 2.06.94-2.06 2.06-.94-2.06-.94-.94-2.06-.94 2.06-2.06.94z\"/><path d=\"M17.41 7.96l-1.37-1.37c-.4-.4-.92-.59-1.43-.59-.52 0-1.04.2-1.43.59L10.3 9.45l-7.72 7.72c-.78.78-.78 2.05 0 2.83L4 21.41c.39.39.9.59 1.41.59.51 0 1.02-.2 1.41-.59l7.78-7.78 2.81-2.81c.8-.78.8-2.07 0-2.86zM5.41 20L4 18.59l7.72-7.72 1.47 1.35L5.41 20z\"/>\n",
              "  </svg>\n",
              "      </button>\n",
              "      \n",
              "  <style>\n",
              "    .colab-df-container {\n",
              "      display:flex;\n",
              "      flex-wrap:wrap;\n",
              "      gap: 12px;\n",
              "    }\n",
              "\n",
              "    .colab-df-convert {\n",
              "      background-color: #E8F0FE;\n",
              "      border: none;\n",
              "      border-radius: 50%;\n",
              "      cursor: pointer;\n",
              "      display: none;\n",
              "      fill: #1967D2;\n",
              "      height: 32px;\n",
              "      padding: 0 0 0 0;\n",
              "      width: 32px;\n",
              "    }\n",
              "\n",
              "    .colab-df-convert:hover {\n",
              "      background-color: #E2EBFA;\n",
              "      box-shadow: 0px 1px 2px rgba(60, 64, 67, 0.3), 0px 1px 3px 1px rgba(60, 64, 67, 0.15);\n",
              "      fill: #174EA6;\n",
              "    }\n",
              "\n",
              "    [theme=dark] .colab-df-convert {\n",
              "      background-color: #3B4455;\n",
              "      fill: #D2E3FC;\n",
              "    }\n",
              "\n",
              "    [theme=dark] .colab-df-convert:hover {\n",
              "      background-color: #434B5C;\n",
              "      box-shadow: 0px 1px 3px 1px rgba(0, 0, 0, 0.15);\n",
              "      filter: drop-shadow(0px 1px 2px rgba(0, 0, 0, 0.3));\n",
              "      fill: #FFFFFF;\n",
              "    }\n",
              "  </style>\n",
              "\n",
              "      <script>\n",
              "        const buttonEl =\n",
              "          document.querySelector('#df-371d88d6-1a4b-406e-aa23-5b6ca95a8da0 button.colab-df-convert');\n",
              "        buttonEl.style.display =\n",
              "          google.colab.kernel.accessAllowed ? 'block' : 'none';\n",
              "\n",
              "        async function convertToInteractive(key) {\n",
              "          const element = document.querySelector('#df-371d88d6-1a4b-406e-aa23-5b6ca95a8da0');\n",
              "          const dataTable =\n",
              "            await google.colab.kernel.invokeFunction('convertToInteractive',\n",
              "                                                     [key], {});\n",
              "          if (!dataTable) return;\n",
              "\n",
              "          const docLinkHtml = 'Like what you see? Visit the ' +\n",
              "            '<a target=\"_blank\" href=https://colab.research.google.com/notebooks/data_table.ipynb>data table notebook</a>'\n",
              "            + ' to learn more about interactive tables.';\n",
              "          element.innerHTML = '';\n",
              "          dataTable['output_type'] = 'display_data';\n",
              "          await google.colab.output.renderOutput(dataTable, element);\n",
              "          const docLink = document.createElement('div');\n",
              "          docLink.innerHTML = docLinkHtml;\n",
              "          element.appendChild(docLink);\n",
              "        }\n",
              "      </script>\n",
              "    </div>\n",
              "  </div>\n",
              "  "
            ]
          },
          "metadata": {},
          "execution_count": 8
        }
      ],
      "source": [
        "#join tokenize data\n",
        "data['text'] = data['text'].apply(lambda x: ' '.join(x))\n",
        "data"
      ]
    },
    {
      "cell_type": "code",
      "execution_count": 9,
      "metadata": {
        "id": "ILnQqFAP8_fE"
      },
      "outputs": [],
      "source": [
        "teks = np.array(data['text'])\n",
        "\n",
        "#One hot encoding pada data target\n",
        "target = np.array(pd.get_dummies(data['target']))\n",
        "\n",
        "# Pemisahan data training & data testing\n",
        "data_train,data_test,label_train,label_test = train_test_split(teks, target, test_size=0.2,\n",
        "                                                               stratify=target, random_state=7)"
      ]
    },
    {
      "cell_type": "code",
      "execution_count": 10,
      "metadata": {
        "colab": {
          "base_uri": "https://localhost:8080/"
        },
        "id": "n0EA1MKlBmpl",
        "outputId": "fc95c3c8-4a29-4273-f129-67ad0d410fea"
      },
      "outputs": [
        {
          "output_type": "stream",
          "name": "stdout",
          "text": [
            "Looking in indexes: https://pypi.org/simple, https://us-python.pkg.dev/colab-wheels/public/simple/\n",
            "Requirement already satisfied: transformers in /usr/local/lib/python3.7/dist-packages (4.20.1)\n",
            "Requirement already satisfied: filelock in /usr/local/lib/python3.7/dist-packages (from transformers) (3.7.1)\n",
            "Requirement already satisfied: huggingface-hub<1.0,>=0.1.0 in /usr/local/lib/python3.7/dist-packages (from transformers) (0.8.1)\n",
            "Requirement already satisfied: tqdm>=4.27 in /usr/local/lib/python3.7/dist-packages (from transformers) (4.64.0)\n",
            "Requirement already satisfied: packaging>=20.0 in /usr/local/lib/python3.7/dist-packages (from transformers) (21.3)\n",
            "Requirement already satisfied: pyyaml>=5.1 in /usr/local/lib/python3.7/dist-packages (from transformers) (6.0)\n",
            "Requirement already satisfied: regex!=2019.12.17 in /usr/local/lib/python3.7/dist-packages (from transformers) (2022.6.2)\n",
            "Requirement already satisfied: requests in /usr/local/lib/python3.7/dist-packages (from transformers) (2.23.0)\n",
            "Requirement already satisfied: numpy>=1.17 in /usr/local/lib/python3.7/dist-packages (from transformers) (1.21.6)\n",
            "Requirement already satisfied: importlib-metadata in /usr/local/lib/python3.7/dist-packages (from transformers) (4.12.0)\n",
            "Requirement already satisfied: tokenizers!=0.11.3,<0.13,>=0.11.1 in /usr/local/lib/python3.7/dist-packages (from transformers) (0.12.1)\n",
            "Requirement already satisfied: typing-extensions>=3.7.4.3 in /usr/local/lib/python3.7/dist-packages (from huggingface-hub<1.0,>=0.1.0->transformers) (4.1.1)\n",
            "Requirement already satisfied: pyparsing!=3.0.5,>=2.0.2 in /usr/local/lib/python3.7/dist-packages (from packaging>=20.0->transformers) (3.0.9)\n",
            "Requirement already satisfied: zipp>=0.5 in /usr/local/lib/python3.7/dist-packages (from importlib-metadata->transformers) (3.8.1)\n",
            "Requirement already satisfied: urllib3!=1.25.0,!=1.25.1,<1.26,>=1.21.1 in /usr/local/lib/python3.7/dist-packages (from requests->transformers) (1.24.3)\n",
            "Requirement already satisfied: chardet<4,>=3.0.2 in /usr/local/lib/python3.7/dist-packages (from requests->transformers) (3.0.4)\n",
            "Requirement already satisfied: idna<3,>=2.5 in /usr/local/lib/python3.7/dist-packages (from requests->transformers) (2.10)\n",
            "Requirement already satisfied: certifi>=2017.4.17 in /usr/local/lib/python3.7/dist-packages (from requests->transformers) (2022.6.15)\n"
          ]
        }
      ],
      "source": [
        "pip install transformers"
      ]
    },
    {
      "cell_type": "code",
      "execution_count": null,
      "metadata": {
        "id": "LJu8mcl0BjuL"
      },
      "outputs": [],
      "source": [
        "from transformers import BertTokenizer, TFBertModel\n",
        "bert_tokenizer = BertTokenizer.from_pretrained('cross-encoder/ms-marco-TinyBERT-L-2-v2')\n",
        "bert_model = TFBertModel.from_pretrained(\"cross-encoder/ms-marco-TinyBERT-L-2-v2\", trainable=False, from_pt=True)"
      ]
    },
    {
      "cell_type": "code",
      "execution_count": 12,
      "metadata": {
        "id": "cppd6rWGB61u"
      },
      "outputs": [],
      "source": [
        "# Pendefinisian fungsi untuk melakukan tokenisasi pada satu data\n",
        "def tokenisasi(teks):\n",
        "      encode_dict = bert_tokenizer(teks,\n",
        "                                   add_special_tokens = True,\n",
        "                                   max_length = 80,\n",
        "                                   padding = 'max_length',\n",
        "                                   truncation = True,\n",
        "                                   return_attention_mask = True,\n",
        "                                   return_tensors = 'tf',)\n",
        "\n",
        "      tokenID = encode_dict['input_ids']\n",
        "      attention_mask = encode_dict['attention_mask']\n",
        "\n",
        "      return tokenID, attention_mask\n",
        "\n",
        "# Pendefinisian fungsi untuk mengambil hasil tokenisasi pada semua data\n",
        "def create_input(data):\n",
        "    tokenID, input_mask = [], []\n",
        "    for teks in data:\n",
        "        token, mask = tokenisasi(teks)\n",
        "        tokenID.append(token)\n",
        "        input_mask.append(mask)\n",
        "    \n",
        "    return {'input_ids': np.asarray(tokenID, dtype=np.int32).reshape(-1, 80), \n",
        "            'attention_mask': np.asarray(input_mask, dtype=np.int32).reshape(-1, 80)}"
      ]
    },
    {
      "cell_type": "code",
      "execution_count": 13,
      "metadata": {
        "id": "XOYbg3kfCE9G"
      },
      "outputs": [],
      "source": [
        "# Membuat tokenID untuk X_train dan X_test\n",
        "X_train = create_input(data_train)\n",
        "X_test = create_input(data_test)\n",
        "\n",
        "#Mengambil representasi teks dari encoder layer ke 12 BERT\n",
        "X_train = bert_model(**X_train)[0]\n",
        "X_test = bert_model(**X_test)[0]"
      ]
    },
    {
      "cell_type": "code",
      "source": [
        "pip install -q -U keras-tuner"
      ],
      "metadata": {
        "id": "6U0liYrIzWV_"
      },
      "execution_count": 14,
      "outputs": []
    },
    {
      "cell_type": "code",
      "source": [
        "from keras_tuner.tuners import BayesianOptimization"
      ],
      "metadata": {
        "id": "ltucyVXizW9w"
      },
      "execution_count": 15,
      "outputs": []
    },
    {
      "cell_type": "code",
      "execution_count": 16,
      "metadata": {
        "id": "cmJf5daF-dWe",
        "colab": {
          "base_uri": "https://localhost:8080/"
        },
        "outputId": "a7a37ab0-3401-46f7-9cf8-e75fbaa00b91"
      },
      "outputs": [
        {
          "output_type": "stream",
          "name": "stdout",
          "text": [
            "Trial 10 Complete [00h 00m 25s]\n",
            "val_accuracy: 0.8730769157409668\n",
            "\n",
            "Best val_accuracy So Far: 0.8730769157409668\n",
            "Total elapsed time: 00h 07m 41s\n",
            "INFO:tensorflow:Oracle triggered exit\n"
          ]
        }
      ],
      "source": [
        "#Mendefinisikan fungsi untuk klasifikasi dengan model hybrid CNN-LSTM menggunakan beberapa kandidat hyperparameter\n",
        "def cnn_gru(hp):\n",
        "    #Input layer\n",
        "    input = keras.layers.Input(shape=(80, 128))\n",
        "\n",
        "    #Convolution layer\n",
        "    cnn = keras.layers.Conv1D(filters = hp.Int('filters',\n",
        "                                                min_value = 200, \n",
        "                                                max_value = 300, \n",
        "                                                step = 50),\n",
        "                                  kernel_size = hp.Int('kernel_size',\n",
        "                                                min_value = 3, \n",
        "                                                max_value = 5, \n",
        "                                                step = 1),\n",
        "                                  activation='relu',\n",
        "                                  kernel_regularizer = keras.regularizers.l2(hp.Choice('kernel_cnn',\n",
        "                                                                                       values = [0.01, 0.001])))(input)\n",
        "\n",
        "    #Max Pooling layer\n",
        "    maxpool = keras.layers.MaxPooling1D(pool_size=2)(cnn)\n",
        "\n",
        "    #LSTM layer\n",
        "    lstm = keras.layers.LSTM(units = hp.Int('units',\n",
        "                                             min_value = 100,\n",
        "                                             max_value = 200,\n",
        "                                             step = 50),\n",
        "                             kernel_regularizer=keras.regularizers.l2(hp.Choice('kernel_regularizer',\n",
        "                                                                                values = [0.01, 0.001])),\n",
        "                             recurrent_regularizer=keras.regularizers.l2(hp.Choice('rec_regularizer',\n",
        "                                                                                   values = [0.01, 0.001])))(maxpool)\n",
        "    #Output layer\n",
        "    output = keras.layers.Dense(2, activation='softmax',\n",
        "                                kernel_regularizer=keras.regularizers.l2(hp.Choice('kernel_dense', values = [0.01, 0.001])))(lstm)\n",
        "    model = keras.models.Model(inputs=input, outputs=output)\n",
        "\n",
        "    model.compile(optimizer = keras.optimizers.Adam(1e-3),\n",
        "                  loss ='categorical_crossentropy',\n",
        "                  metrics=['accuracy'])\n",
        "   \n",
        "    return model\n",
        "\n",
        "# Pendefinisian Callback\n",
        "class ClearTrainingOutput(tf.keras.callbacks.Callback):\n",
        "    def on_train_end(*args, **kwargs):\n",
        "        IPython.display.clear_output(wait = True)\n",
        "\n",
        "early_stop = keras.callbacks.EarlyStopping(monitor='val_loss', patience=5)\n",
        "\n",
        "#Hyperparameter tuning menggunakan bayesian optimization\n",
        "tuner = BayesianOptimization(cnn_gru,\n",
        "                             objective = 'val_accuracy', \n",
        "                             max_trials = 10,\n",
        "                             directory = '/content/Hasil',\n",
        "                             project_name = 'CNN-GRU',\n",
        "                             overwrite = True)\n",
        "\n",
        "tuner.search(X_train, label_train,\n",
        "             batch_size=32, epochs=50,\n",
        "             validation_split=0.2,\n",
        "             callbacks=[early_stop, ClearTrainingOutput()])\n",
        "\n",
        "# Mendapatkan model terbaik\n",
        "model = tuner.get_best_models()[0]"
      ]
    },
    {
      "cell_type": "code",
      "source": [
        "model.summary()"
      ],
      "metadata": {
        "colab": {
          "base_uri": "https://localhost:8080/"
        },
        "id": "aDsEGo6wVQ42",
        "outputId": "6e504980-183b-456c-c895-24ecaf011722"
      },
      "execution_count": 17,
      "outputs": [
        {
          "output_type": "stream",
          "name": "stdout",
          "text": [
            "Model: \"model\"\n",
            "_________________________________________________________________\n",
            " Layer (type)                Output Shape              Param #   \n",
            "=================================================================\n",
            " input_1 (InputLayer)        [(None, 80, 128)]         0         \n",
            "                                                                 \n",
            " conv1d (Conv1D)             (None, 77, 300)           153900    \n",
            "                                                                 \n",
            " max_pooling1d (MaxPooling1D  (None, 38, 300)          0         \n",
            " )                                                               \n",
            "                                                                 \n",
            " lstm (LSTM)                 (None, 200)               400800    \n",
            "                                                                 \n",
            " dense (Dense)               (None, 2)                 402       \n",
            "                                                                 \n",
            "=================================================================\n",
            "Total params: 555,102\n",
            "Trainable params: 555,102\n",
            "Non-trainable params: 0\n",
            "_________________________________________________________________\n"
          ]
        }
      ]
    },
    {
      "cell_type": "code",
      "source": [
        "# Retrain model pada data test\n",
        "history = model.fit(X_train, label_train,\n",
        "                    batch_size=64, epochs=50,\n",
        "                    validation_data=(X_test, label_test),\n",
        "                    callbacks=[early_stop])"
      ],
      "metadata": {
        "colab": {
          "base_uri": "https://localhost:8080/"
        },
        "id": "pmm-coU34ZtJ",
        "outputId": "4df5069c-c958-411a-9d8e-33edf67c3877"
      },
      "execution_count": 21,
      "outputs": [
        {
          "output_type": "stream",
          "name": "stdout",
          "text": [
            "Epoch 1/50\n",
            "143/143 [==============================] - 2s 11ms/step - loss: 0.2855 - accuracy: 0.8994 - val_loss: 0.3564 - val_accuracy: 0.8738\n",
            "Epoch 2/50\n",
            "143/143 [==============================] - 1s 10ms/step - loss: 0.2882 - accuracy: 0.8973 - val_loss: 0.3533 - val_accuracy: 0.8760\n",
            "Epoch 3/50\n",
            "143/143 [==============================] - 1s 10ms/step - loss: 0.2834 - accuracy: 0.9001 - val_loss: 0.3405 - val_accuracy: 0.8738\n",
            "Epoch 4/50\n",
            "143/143 [==============================] - 2s 11ms/step - loss: 0.2812 - accuracy: 0.9022 - val_loss: 0.3613 - val_accuracy: 0.8619\n",
            "Epoch 5/50\n",
            "143/143 [==============================] - 1s 10ms/step - loss: 0.2781 - accuracy: 0.9077 - val_loss: 0.3521 - val_accuracy: 0.8676\n",
            "Epoch 6/50\n",
            "143/143 [==============================] - 1s 10ms/step - loss: 0.2756 - accuracy: 0.9051 - val_loss: 0.3479 - val_accuracy: 0.8685\n",
            "Epoch 7/50\n",
            "143/143 [==============================] - 1s 10ms/step - loss: 0.2689 - accuracy: 0.9079 - val_loss: 0.3388 - val_accuracy: 0.8760\n",
            "Epoch 8/50\n",
            "143/143 [==============================] - 2s 11ms/step - loss: 0.2751 - accuracy: 0.9036 - val_loss: 0.3428 - val_accuracy: 0.8786\n",
            "Epoch 9/50\n",
            "143/143 [==============================] - 1s 10ms/step - loss: 0.2731 - accuracy: 0.9049 - val_loss: 0.3438 - val_accuracy: 0.8734\n",
            "Epoch 10/50\n",
            "143/143 [==============================] - 1s 10ms/step - loss: 0.2677 - accuracy: 0.9072 - val_loss: 0.3681 - val_accuracy: 0.8712\n",
            "Epoch 11/50\n",
            "143/143 [==============================] - 1s 10ms/step - loss: 0.2662 - accuracy: 0.9068 - val_loss: 0.3806 - val_accuracy: 0.8575\n",
            "Epoch 12/50\n",
            "143/143 [==============================] - 1s 10ms/step - loss: 0.2612 - accuracy: 0.9122 - val_loss: 0.3358 - val_accuracy: 0.8852\n",
            "Epoch 13/50\n",
            "143/143 [==============================] - 2s 11ms/step - loss: 0.2658 - accuracy: 0.9073 - val_loss: 0.3577 - val_accuracy: 0.8619\n",
            "Epoch 14/50\n",
            "143/143 [==============================] - 1s 10ms/step - loss: 0.2614 - accuracy: 0.9127 - val_loss: 0.3509 - val_accuracy: 0.8703\n",
            "Epoch 15/50\n",
            "143/143 [==============================] - 1s 10ms/step - loss: 0.2646 - accuracy: 0.9102 - val_loss: 0.3506 - val_accuracy: 0.8720\n",
            "Epoch 16/50\n",
            "143/143 [==============================] - 1s 10ms/step - loss: 0.2592 - accuracy: 0.9107 - val_loss: 0.3535 - val_accuracy: 0.8712\n",
            "Epoch 17/50\n",
            "143/143 [==============================] - 2s 11ms/step - loss: 0.2643 - accuracy: 0.9131 - val_loss: 0.3585 - val_accuracy: 0.8716\n"
          ]
        }
      ]
    },
    {
      "cell_type": "code",
      "source": [
        "# Mendapatkan kinerja model\n",
        "y_pred = np.argmax(model.predict(X_test), axis=1)\n",
        "y = np.argmax(label_test, axis=1)\n",
        "print('accuracy: ', accuracy_score(y, y_pred),\n",
        "      '\\nprecicion: ', precision_score(y, y_pred),\n",
        "      '\\nrecall: ', recall_score(y, y_pred))"
      ],
      "metadata": {
        "colab": {
          "base_uri": "https://localhost:8080/"
        },
        "id": "84xKTDjo4YpU",
        "outputId": "c5a69756-4e3b-4af9-81b2-470fe538c601"
      },
      "execution_count": 22,
      "outputs": [
        {
          "output_type": "stream",
          "name": "stdout",
          "text": [
            "accuracy:  0.8715919085312225 \n",
            "precicion:  0.6675191815856778 \n",
            "recall:  0.6170212765957447\n"
          ]
        }
      ]
    },
    {
      "cell_type": "code",
      "source": [
        "# plot grafik akurasi\n",
        "plt.plot(history.history['accuracy'])\n",
        "plt.plot(history.history['val_accuracy'])\n",
        "plt.title('model accuracy')\n",
        "plt.ylabel('accuracy')\n",
        "plt.xlabel('epoch')\n",
        "plt.legend(['Train', 'Test'], loc='upper left')\n",
        "plt.show()\n",
        "# plot grafik loss\n",
        "plt.plot(history.history['loss'])\n",
        "plt.plot(history.history['val_loss'])\n",
        "plt.title('model loss')\n",
        "plt.ylabel('loss')\n",
        "plt.xlabel('epoch')\n",
        "plt.legend(['Train', 'Test'], loc='upper left')\n",
        "plt.show()"
      ],
      "metadata": {
        "colab": {
          "base_uri": "https://localhost:8080/",
          "height": 573
        },
        "id": "rPKRgj0_4caP",
        "outputId": "f129528c-a4a7-4012-d2e2-ebd759a0996d"
      },
      "execution_count": 23,
      "outputs": [
        {
          "output_type": "display_data",
          "data": {
            "text/plain": [
              "<Figure size 432x288 with 1 Axes>"
            ],
            "image/png": "[encoded data removed]"
          },
          "metadata": {
            "needs_background": "light"
          }
        },
        {
          "output_type": "display_data",
          "data": {
            "text/plain": [
              "<Figure size 432x288 with 1 Axes>"
            ],
            "image/png": "[encoded data removed]"
          },
          "metadata": {
            "needs_background": "light"
          }
        }
      ]
    }
  ],
  "metadata": {
    "colab": {
      "name": "Copy of Project DTS.ipynb",
      "provenance": [],
      "collapsed_sections": []
    },
    "kernelspec": {
      "display_name": "Python 3",
      "name": "python3"
    },
    "language_info": {
      "name": "python"
    },
    "accelerator": "GPU",
    "gpuClass": "standard"
  },
  "nbformat": 4,
  "nbformat_minor": 0
}